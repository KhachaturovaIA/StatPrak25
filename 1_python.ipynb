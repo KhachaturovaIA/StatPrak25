{
 "cells": [
  {
   "cell_type": "markdown",
   "metadata": {
    "id": "xw8BD8v2oBGj"
   },
   "source": [
    "# Homework"
   ]
  },
  {
   "cell_type": "markdown",
   "metadata": {
    "id": "sSos7q2_oBGj"
   },
   "source": [
    "## Problem 1"
   ]
  },
  {
   "cell_type": "markdown",
   "metadata": {
    "id": "NiX8ePp0oBGk"
   },
   "source": [
    "Make a tuple containing natural numbers, the square of which is a multiple of 3, 4, but not a multiple of 8 and not exceeding 12345."
   ]
  },
  {
   "cell_type": "code",
   "execution_count": 61,
   "metadata": {
    "id": "XmPHEnS9oBGk"
   },
   "outputs": [
    {
     "name": "stdout",
     "output_type": "stream",
     "text": [
      "(6, 18, 30, 42, 54)\n"
     ]
    }
   ],
   "source": [
    "result = tuple(x for x in range(12345) if ((x**2)%3 == 0 and (x**2)%4 == 0 and (x**2)%8 != 0))\n",
    "print(result[:5])"
   ]
  },
  {
   "cell_type": "markdown",
   "metadata": {
    "id": "OZBeUyxcoBGk"
   },
   "source": [
    "## Problem 2"
   ]
  },
  {
   "cell_type": "markdown",
   "metadata": {
    "id": "zIfvg22noBGk"
   },
   "source": [
    "\n",
    "Write a function that takes a two-dimensional array and a string as input and returns an array rotated 90 degrees counterclockwise if the string 'left' was passed, and clockwise if the string 'right' was passed.\n",
    "\n",
    "Example for input: $\\begin{bmatrix} 1 & 2 & 3 \\\\ 4 & 5 & 6 \\\\ 7 & 8 & 9 \\end{bmatrix}$.\\\n",
    "If the string 'left' is passed, the function should return $\\begin{bmatrix} 3 & 6 & 9 \\\\ 2 & 5 & 8 \\\\ 1 & 4 & 7 \\end{bmatrix}$, and if the string 'right' is passed, the function should return $\\begin{bmatrix} 7 & 4 & 1 \\\\ 8 & 5 & 2 \\\\ 9 & 6 & 3 \\end{bmatrix}$."
   ]
  },
  {
   "cell_type": "code",
   "execution_count": 69,
   "metadata": {
    "id": "HNvy_cRjoBGk"
   },
   "outputs": [
    {
     "data": {
      "text/plain": [
       "[[3, 6, 9], [2, 5, 8], [1, 4, 7]]"
      ]
     },
     "execution_count": 69,
     "metadata": {},
     "output_type": "execute_result"
    }
   ],
   "source": [
    "def rotate_matrix(array, string):\n",
    "    n, m = 0, 0\n",
    "    i, j = 0, 0\n",
    "    m = len(array)\n",
    "    n = len(array[0])\n",
    "    result = [[0] * m for k in range (n)]\n",
    "    if (string == 'left'):\n",
    "        i, j = 0, 0\n",
    "        for i in range(m):\n",
    "            for j in range(n):\n",
    "                result[n - 1 - j][i] = array[i][j]\n",
    "    elif (string == 'right'):\n",
    "        i, j = 0, 0\n",
    "        for i in range(m):\n",
    "            for j in range(n):\n",
    "                result[j][m - 1 - i] = array[i][j]\n",
    "    return result\n",
    "\n",
    "rotate_matrix([[1, 2, 3], [4, 5, 6], [7, 8, 9]], 'left')"
   ]
  },
  {
   "cell_type": "markdown",
   "metadata": {
    "id": "_dY-PFlCoBGk"
   },
   "source": [
    "## Problem 3"
   ]
  },
  {
   "cell_type": "markdown",
   "metadata": {
    "id": "3CaIwcm0oBGk"
   },
   "source": [
    "Write a function that takes a string as input and returns a dictionary containing the number of occurrences of each character in the string.\n",
    "\n",
    "Example for the string 'hello, world!': {'h': 1, 'e': 1, 'l': 3, 'o': 2, ',': 1, ' ': 1, 'w': 1, 'r': 1, 'd': 1, '!': 1}."
   ]
  },
  {
   "cell_type": "code",
   "execution_count": 71,
   "metadata": {
    "id": "rlSbHusZoBGk"
   },
   "outputs": [
    {
     "data": {
      "text/plain": [
       "{'h': 1,\n",
       " 'e': 1,\n",
       " 'l': 3,\n",
       " 'o': 2,\n",
       " ',': 1,\n",
       " ' ': 1,\n",
       " 'w': 1,\n",
       " 'r': 1,\n",
       " 'd': 1,\n",
       " '!': 1}"
      ]
     },
     "execution_count": 71,
     "metadata": {},
     "output_type": "execute_result"
    }
   ],
   "source": [
    "def string_to_dict(str):\n",
    "    dict = {}\n",
    "    for letter in str:\n",
    "        if letter in dict:\n",
    "            dict[letter] += 1\n",
    "        else:\n",
    "            dict[letter] = 1\n",
    "    return dict\n",
    "\n",
    "string_to_dict('hello, world!')"
   ]
  },
  {
   "cell_type": "markdown",
   "metadata": {
    "id": "KBGJ7PeboBGk"
   },
   "source": [
    "## Problem 4"
   ]
  },
  {
   "cell_type": "markdown",
   "metadata": {
    "id": "XS4Seqa9oBGk"
   },
   "source": [
    "### Implementing a Library Management System\n",
    "\n",
    "#### Description\n",
    "\n",
    "You are required to design and implement a system for managing books and users in a library. The system should allow for the management of books (adding, deleting, searching by various criteria) and users (registration, deletion, searching), as well as tracking the history of interactions between them (issuing and returning books).\n",
    "\n",
    "#### Tasks\n",
    "\n",
    "1. **`Book` Class**:\n",
    "   - Attributes: title, author, year of publication, ISBN, number of copies.\n",
    "   - Methods: constructor, methods to get information about the book, method to change the number of copies (when issuing and returning books).\n",
    "\n",
    "2. **`User` Class**:\n",
    "   - Attributes: user name, library card number, list of borrowed books.\n",
    "   - Methods: constructor, methods for user registration, methods for adding and removing books from the borrowed list.\n",
    "\n",
    "3. **`Library` Class**:\n",
    "   - Attributes: list of books, list of users, transaction history (who, when, which book was borrowed and returned).\n",
    "   - Methods: constructor, methods for adding and deleting books and users, methods for issuing and returning books, searching for books and users by various criteria, method to display the transaction history.\n",
    "\n",
    "#### Assignment\n",
    "\n",
    "1. Implement the `Book`, `User`, and `Library` classes with the specified attributes and methods.\n",
    "2. Create several books and users, and add them to the library system.\n",
    "3. Implement scenarios for issuing books to users and their return.\n",
    "4. Display the transaction history to show how books were issued and returned.\n"
   ]
  },
  {
   "cell_type": "code",
   "execution_count": 90,
   "metadata": {
    "id": "IbqwtWWsoBGl"
   },
   "outputs": [
    {
     "name": "stdout",
     "output_type": "stream",
     "text": [
      "Anna borrowed 'Great Expectations' on 2025-02-16 22:15:55.373964\n",
      "Alexey borrowed 'To Kill a Mockingbird' on 2025-02-16 22:15:55.373964\n",
      "Anna returned 'Great Expectations' on 2025-02-16 22:15:55.373964\n"
     ]
    }
   ],
   "source": [
    "class Book:\n",
    "    def __init__(self, title, author, year, isbn, copies):\n",
    "        self.title = title\n",
    "        self.author = author\n",
    "        self.year = year\n",
    "        self.isbn = isbn\n",
    "        self.copies = copies\n",
    "\n",
    "    def get_info(self):\n",
    "        return f\"{self.title} by {self.author} ({self.year}), ISBN: {self.isbn}, copies: {self.copies}\"\n",
    "\n",
    "    def update_copies(self, change):\n",
    "        self.copies += change\n",
    "\n",
    "class User:\n",
    "    def __init__(self, name, card_number):\n",
    "        self.name = name\n",
    "        self.card_number = card_number\n",
    "        self.borrowed_books = []\n",
    "\n",
    "    def borrow_book(self, book):\n",
    "        if book.copies > 0:\n",
    "            self.borrowed_books.append(book)\n",
    "            book.update_copies(-1)\n",
    "            return True\n",
    "        return False\n",
    "\n",
    "    def return_book(self, book):\n",
    "        if book in self.borrowed_books:\n",
    "            self.borrowed_books.remove(book)\n",
    "            book.update_copies(1)\n",
    "            return True\n",
    "        return False\n",
    "\n",
    "class Library:\n",
    "    def __init__(self):\n",
    "        self.books = []\n",
    "        self.users = []\n",
    "        self.transactions = []\n",
    "\n",
    "    def add_book(self, book):\n",
    "        self.books.append(book)\n",
    "\n",
    "    def delete_book(self, book):\n",
    "        self.books.remove(book)\n",
    "\n",
    "    def add_user(self, user):\n",
    "        self.users.append(user)\n",
    "\n",
    "    def delete_user(self, user):\n",
    "        self.users.remove(user)\n",
    "\n",
    "    def issue_book(self, user, book):\n",
    "        if user.borrow_book(book):\n",
    "            self.transactions.append(f\"{user.name} borrowed {book.title} on {datetime.now()}\")\n",
    "            return True\n",
    "        return False\n",
    "\n",
    "    def return_book(self, user, book):\n",
    "        if user.return_book(book):\n",
    "            self.transactions.append(f\"{user.name} returned {book.title} on {datetime.now()}\")\n",
    "            return True\n",
    "        return False\n",
    "\n",
    "    def search_books(self, **kwargs):\n",
    "        results = self.books\n",
    "        for key, value in kwargs.items():\n",
    "            results = [book for book in results if getattr(book, key) == value]\n",
    "        return results\n",
    "\n",
    "    def search_users(self, **kwargs):\n",
    "        results = self.users\n",
    "        for key, value in kwargs.items():\n",
    "            results = [user for user in results if getattr(user, key) == value]\n",
    "        return results\n",
    "\n",
    "    def display_transactions(self):\n",
    "        for transaction in self.transactions:\n",
    "            print(transaction)\n",
    "\n",
    "from datetime import datetime\n",
    "\n",
    "book1 = Book(\"'Great Expectations'\", \"Charles Dickens\", 1949, \"9780451524935\", 5)\n",
    "book2 = Book(\"'To Kill a Mockingbird'\", \"Harper Lee\", 1960, \"9780446310789\", 3)\n",
    "\n",
    "user1 = User(\"Anna\", \"12345\")\n",
    "user2 = User(\"Alexey\", \"67890\")\n",
    "\n",
    "library = Library()\n",
    "library.add_book(book1)\n",
    "library.add_book(book2)\n",
    "library.add_user(user1)\n",
    "library.add_user(user2)\n",
    "\n",
    "library.issue_book(user1, book1)\n",
    "library.issue_book(user2, book2)\n",
    "library.return_book(user1, book1)\n",
    "\n",
    "library.display_transactions()"
   ]
  },
  {
   "cell_type": "markdown",
   "metadata": {
    "id": "0c8zRbSIoBGl"
   },
   "source": [
    "## Problem 5*"
   ]
  },
  {
   "cell_type": "markdown",
   "metadata": {
    "id": "8ltdzRmOoBGl"
   },
   "source": [
    "Explain why list `b` changes after the execution of the following code:\n",
    "\n",
    "```python\n",
    "a = [1, 2, 3]\n",
    "b = a\n",
    "a[0] = 4\n",
    "print(b)\n",
    "```"
   ]
  },
  {
   "cell_type": "markdown",
   "metadata": {
    "id": "RxgnUfFPoBGl"
   },
   "source": [
    "> Write your answer in markdown cell after:"
   ]
  },
  {
   "cell_type": "markdown",
   "metadata": {},
   "source": [
    "Список - изменяемый объект. Создается элемент b, и ему присваивается значение созданного списка a. И a и b ссылаются на один и тот же объект в памяти, поэтому при изменении переменной а, изменилась и переменная b."
   ]
  },
  {
   "cell_type": "markdown",
   "metadata": {
    "id": "TmXLkc_foBGl"
   },
   "source": [
    "## Problem 6*"
   ]
  },
  {
   "cell_type": "markdown",
   "metadata": {
    "id": "Gn0ibiVCoBGl"
   },
   "source": [
    "Let\n",
    "$$A = \\sum_{i=1}^{10000} \\frac{1}{i^2},\\quad B=\\sum_{i=10000}^{1} \\frac{1}{i^2}.$$\n",
    "Calculate the values of $A$ and $B$ and compare them. What do you observe? Explain why this happens. What is the best way to calculate the value of $\\sum\\limits_{i=1}^{10000} \\dfrac{1}{i^2}$?"
   ]
  },
  {
   "cell_type": "code",
   "execution_count": 104,
   "metadata": {
    "id": "3q93uGqFoBGl"
   },
   "outputs": [
    {
     "name": "stdout",
     "output_type": "stream",
     "text": [
      "1.6448340718480652 1.6448340718480596\n",
      "5.551115123125783e-15\n"
     ]
    }
   ],
   "source": [
    "A, B = 0, 0\n",
    "for i in range(1, 10001):\n",
    "    A += 1/(i**2)\n",
    "\n",
    "for j in range(10000, 0, -1):\n",
    "    B += 1/(j**2)\n",
    "print(A, B)\n",
    "print(A-B)"
   ]
  },
  {
   "cell_type": "markdown",
   "metadata": {},
   "source": [
    "Посчитав числа А и B, заметим, что они отличаются. Складываемые числа - числа с плавающей точкой. Для них важен порядок сложения из-за ошибок округления. В сумме А первые слагаемые гораздо больше последних, в В - наоборот. Если к большой сумме прибавлять маленькие числа, то они практически не будут вносить вклад. Если же сначала складывать маленькие числа, то ошибка накапливается не так сильно, так как прибавляем числа сопоставимых масштабов.\n",
    "Поэтому лучший способ вычислить данную сумму - суммировать от 10000 до 1. Так получим более точный результат."
   ]
  }
 ],
 "metadata": {
  "colab": {
   "provenance": []
  },
  "kernelspec": {
   "display_name": "Python 3 (ipykernel)",
   "language": "python",
   "name": "python3"
  },
  "language_info": {
   "codemirror_mode": {
    "name": "ipython",
    "version": 3
   },
   "file_extension": ".py",
   "mimetype": "text/x-python",
   "name": "python",
   "nbconvert_exporter": "python",
   "pygments_lexer": "ipython3",
   "version": "3.12.4"
  }
 },
 "nbformat": 4,
 "nbformat_minor": 4
}
